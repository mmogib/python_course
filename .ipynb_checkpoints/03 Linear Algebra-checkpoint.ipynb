{
 "cells": [
  {
   "cell_type": "markdown",
   "metadata": {},
   "source": [
    "## Linear Algebra\n",
    "we use \n",
    "* [numpy](https://numpy.org/)\n",
    "* [matplotlin](https://matplotlib.org/) \n"
   ]
  },
  {
   "cell_type": "code",
   "execution_count": 2,
   "metadata": {},
   "outputs": [],
   "source": [
    "import numpy as np\n",
    "import numpy.random as rg\n",
    "import numpy.linalg as la\n",
    "import matplotlib.pyplot as plt\n"
   ]
  },
  {
   "cell_type": "code",
   "execution_count": 101,
   "metadata": {},
   "outputs": [
    {
     "data": {
      "text/plain": [
       "array([0.        , 3.14159265, 6.28318531])"
      ]
     },
     "execution_count": 101,
     "metadata": {},
     "output_type": "execute_result"
    }
   ],
   "source": [
    "\n",
    "# define arrays\n",
    "# zeros\n",
    "# ones\n",
    "# operations (+,-,@, .dot)\n"
   ]
  },
  {
   "cell_type": "code",
   "execution_count": 3,
   "metadata": {},
   "outputs": [],
   "source": [
    "# creating arrays\n",
    "a = np.array([1,2,3]) # row vector\n",
    "b = np.array([[1],[2],[3]])  # column vector\n",
    "A = np.array([[1,2,3],[2,-2,3]]) # row by row\n",
    "v1 = np.arange(-1,10, 2) # from a range\n",
    "v2 = np.array(tuple(i**2 for i in range(10)))\n",
    "z = np.zeros((3,3))\n",
    "o = np.ones((3,3), dtype=np.int16)\n",
    "I = np.identity(3)\n",
    "E = np.empty((3,3))\n",
    "Resh = np.arange(1,10).reshape((3,3))\n",
    "Lin = np.linspace(-1,10,200)\n",
    "Arand = rg.randint(1,10,size=(3,3))\n",
    "Brand = rg.randint(1,10,size=(3,3))\n"
   ]
  },
  {
   "cell_type": "code",
   "execution_count": 9,
   "metadata": {},
   "outputs": [
    {
     "data": {
      "image/png": "[encoded data removed]",
      "text/plain": [
       "<Figure size 432x288 with 1 Axes>"
      ]
     },
     "metadata": {
      "needs_background": "light"
     },
     "output_type": "display_data"
    }
   ],
   "source": [
    "# simple graphs\n",
    "x = np.linspace(-np.pi, np.pi, 100)\n",
    "sinx = np.sin(x)\n",
    "cosx = np.cos(x)\n",
    "\n",
    "plt.plot(x, sinx, label='sine')\n",
    "plt.plot(x, cosx, label='cosine')\n",
    "plt.plot(x, x**3, label='cubic')\n",
    "\n",
    "plt.xlabel('x label')\n",
    "plt.ylabel('y label')\n",
    "\n",
    "plt.title(\"Sine and Cosine\")\n",
    "\n",
    "plt.legend()\n",
    "\n",
    "plt.savefig('sine')"
   ]
  },
  {
   "cell_type": "code",
   "execution_count": 15,
   "metadata": {},
   "outputs": [
    {
     "data": {
      "text/plain": [
       "14"
      ]
     },
     "execution_count": 15,
     "metadata": {},
     "output_type": "execute_result"
    }
   ],
   "source": [
    "# oprations\n",
    "# element by element\n",
    "3*a \n",
    "a,a*a, a**a, a%a\n",
    "3+a\n",
    "3-a\n",
    "3/a\n",
    "a**3\n",
    "a % 2\n",
    "Arand - Brand\n",
    "\n",
    "Arand @ Brand # matrix multiplications\n",
    "a @ a.transpose()\n",
    "a.dot(a)\n"
   ]
  },
  {
   "cell_type": "code",
   "execution_count": 7,
   "metadata": {},
   "outputs": [
    {
     "data": {
      "text/plain": [
       "(array([16.38986692,  0.61013308,  1.        ]),\n",
       " array([[ 0.50345683,  0.42650365,  0.33333333],\n",
       "        [ 0.63789249, -0.67323627, -0.66666667],\n",
       "        [ 0.58277302,  0.60402613,  0.66666667]]))"
      ]
     },
     "execution_count": 7,
     "metadata": {},
     "output_type": "execute_result"
    }
   ],
   "source": [
    "## Linear Algebra\n",
    "# inverse\n",
    "Ainv =la.inv(Arand)\n",
    "la.norm(Ainv @ Arand - I)\n",
    "\n",
    "# eigenvalues\n",
    "e,v = la.eig(Arand)\n",
    "e, v\n"
   ]
  },
  {
   "cell_type": "markdown",
   "metadata": {},
   "source": [
    "### Exercise:\n",
    "Solve the following system\n",
    "$$\n",
    "\\begin{array}{rcrcrcr}\n",
    "x_1 &  + & 2x_2 & + &  x_3 &=& 4\\\\\n",
    "3x_1 & + & 8x_2 & + & 7x_3 &=&20\\\\\n",
    "2x_1 & + & 7x_2 & + & 9x_3 &=&23\n",
    "\\end{array}\n",
    "$$"
   ]
  },
  {
   "cell_type": "code",
   "execution_count": 15,
   "metadata": {},
   "outputs": [
    {
     "data": {
      "text/plain": [
       "array([ 5., -2.,  3.])"
      ]
     },
     "execution_count": 15,
     "metadata": {},
     "output_type": "execute_result"
    }
   ],
   "source": [
    "# by inverse\n",
    "A=np.array([[1,2,1],[3,8,7],[2,7,9]])\n",
    "b=np.array([4,20,23])\n",
    "x = la.inv(A) @ b\n",
    "# by solve\n",
    "xx = la.solve(A,b)\n",
    "xx"
   ]
  },
  {
   "cell_type": "code",
   "execution_count": 17,
   "metadata": {},
   "outputs": [],
   "source": [
    "? la.solve"
   ]
  },
  {
   "cell_type": "markdown",
   "metadata": {},
   "source": [
    "### Exercise:\n",
    "Solve the following system\n",
    "$$\n",
    "\\begin{array}{rcrcrcrcrcrcr}\n",
    "x_1 &  - & 2x_2 & + & 3x_3 &+& 2x_4 & + &  x_5 & = & 10\\\\\n",
    "    &    &      &   &  x_3 & &      & + & 2x_5 & = & -3\\\\\n",
    "    &    &      &   &      & &  x_4 & - & 4x_5 & = & 7\\\\\n",
    "\\end{array}\n",
    "$$"
   ]
  },
  {
   "cell_type": "code",
   "execution_count": 30,
   "metadata": {},
   "outputs": [],
   "source": [
    "# A=np.array([[1,-2,3,2,1],[0,0,1,0,2],[0,0,0,1,-4]])\n",
    "# b= np.array([10,-3,7])\n",
    "# x=la.solve(A,b)\n",
    "# x= la.lstsq(A,b)\n",
    "# la.norm(A @ x[0] - b)"
   ]
  }
 ],
 "metadata": {
  "kernelspec": {
   "display_name": "Python 3",
   "language": "python",
   "name": "python3"
  },
  "language_info": {
   "codemirror_mode": {
    "name": "ipython",
    "version": 3
   },
   "file_extension": ".py",
   "mimetype": "text/x-python",
   "name": "python",
   "nbconvert_exporter": "python",
   "pygments_lexer": "ipython3",
   "version": "3.8.1"
  }
 },
 "nbformat": 4,
 "nbformat_minor": 4
}
