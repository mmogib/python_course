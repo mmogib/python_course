{
 "cells": [
  {
   "cell_type": "markdown",
   "metadata": {},
   "source": [
    "#### Symbolic Computations\n",
    "\n",
    "[sympy](https://www.sympy.org/en/index.html)"
   ]
  },
  {
   "cell_type": "code",
   "execution_count": null,
   "metadata": {},
   "outputs": [],
   "source": [
    "from sympy import symbols, sin, cos, collect, cancel\n",
    "\n",
    "# simple manipulations\n",
    "x, y, z, α = symbols(\"x, y, z, α\", real=True)\n",
    "\n",
    "# factorization\n",
    "ex1 = 3*α*x**3+4*α*x**2-3*α*x-4*α\n",
    "ex1.factor()\n",
    "ex11 = ex1.subs(α,9)\n",
    "\n",
    "ex2 = (x-1)*(x-1.2)*(x-1.5)\n",
    "ex2.subs(x,2)\n",
    "ex3=ex2.expand()\n",
    "ex4 = cos(x)**2-sin(x)**2\n",
    "ex5 = cos(2*x)\n",
    "ex4.equals(ex5)\n",
    "\n",
    "ex6 = x*y + x - 3 + 2*x**2 - z*x**2 + x**3\n",
    "ex7 =collect(ex3,x)\n",
    "ex7"
   ]
  },
  {
   "cell_type": "code",
   "execution_count": null,
   "metadata": {},
   "outputs": [],
   "source": [
    "# Calculus\n",
    "# derivative\n",
    "from sympy import diff, cos, symbols, Derivative, Eq\n",
    "x, y, z = symbols(\"x,y,z\", real=True)\n",
    "ex = cos(x)\n",
    "\n",
    "# derivatives \n",
    "diff(ex)\n",
    "\n",
    "# partial derivatives\n",
    "ex = cos(x*y*z)\n",
    "df = diff(ex,x,x,y)\n",
    "df.subs({y: 2, z: -1})\n",
    "\n",
    "exDf = Derivative(ex, x,x,y)\n",
    "exDf.doit()\n",
    "\n",
    "\n"
   ]
  },
  {
   "cell_type": "code",
   "execution_count": 17,
   "metadata": {},
   "outputs": [
    {
     "data": {
      "text/latex": [
       "$\\displaystyle \\pi$"
      ],
      "text/plain": [
       "pi"
      ]
     },
     "execution_count": 17,
     "metadata": {},
     "output_type": "execute_result"
    }
   ],
   "source": [
    "# integration\n",
    "from sympy import integrate, Integral, Eq, exp, symbols,oo\n",
    "x,y = symbols(\"x,y\", real=True)\n",
    "ex = exp(-x)\n",
    "\n",
    "integrate(ex)\n",
    "I=Integral(ex,(x,0,oo))\n",
    "v = integrate(ex,(x,0,oo))\n",
    "Eq(I,v)\n",
    "\n",
    "f2 = exp(-x**2-y**2)\n",
    "II = Integral(f2,(x,-oo,oo),(y,-oo,oo))\n",
    "vv = integrate(f2,(x,-oo,oo),(y,-oo,oo))\n",
    "vv"
   ]
  },
  {
   "cell_type": "code",
   "execution_count": 9,
   "metadata": {},
   "outputs": [],
   "source": [
    "# Limits \n",
    "from sympy import Limit, limit, symbols, Eq, sin\n",
    "x, y = symbols(\"x,y\", real=True)\n",
    "\n",
    "f1 = sin(x)/x\n",
    "L = Limit(f1,x,0,'+-')\n",
    "l = limit(f1,x,0)\n"
   ]
  },
  {
   "cell_type": "code",
   "execution_count": 5,
   "metadata": {},
   "outputs": [],
   "source": [
    "# Series & Series Expansion\n",
    "from sympy import Sum, symbols, Limit, oo, sin, pi\n",
    "x = symbols(\"x\", real=True)\n",
    "i, n = symbols(\"i, n\", intger=True)\n",
    "S = Sum(1/i**2,(i,1,n))\n",
    "s = Limit(S,n,oo)\n",
    "s.doit()\n",
    "\n",
    "f1 = sin(x)\n",
    "\n",
    "sinser = sin(x).series(x,n=6)\n",
    "\n"
   ]
  },
  {
   "cell_type": "markdown",
   "metadata": {},
   "source": [
    "### Example\n",
    "Solve the IVP\n",
    "$$\n",
    "\\frac{dy}{dx} + 2xy = x\n",
    "$$"
   ]
  },
  {
   "cell_type": "code",
   "execution_count": 11,
   "metadata": {},
   "outputs": [],
   "source": [
    "# Differential Equations\n",
    "from sympy import symbols, Function, dsolve, Eq\n",
    "x =symbols(\"x\", real=True)\n",
    "y = symbols(\"y\", cls=Function)\n",
    "y(x)\n",
    "d1 = Eq(y(x).diff()+2*x*y(x),x)\n",
    "d1\n",
    "sol= dsolve(d1,y(x))\n"
   ]
  },
  {
   "cell_type": "code",
   "execution_count": 15,
   "metadata": {},
   "outputs": [
    {
     "data": {
      "text/plain": [
       "[0, pi]"
      ]
     },
     "execution_count": 15,
     "metadata": {},
     "output_type": "execute_result"
    }
   ],
   "source": [
    "# Solvers\n",
    "from sympy import symbols, sin, solve, solveset, Eq\n",
    "\n",
    "x = symbols(\"x\", real=True)\n",
    "\n",
    "eq1 = x**2-4\n",
    "solveset(eq,x)\n",
    "eq2= sin(x)\n",
    "solveset(eq2,x)\n",
    "solve(eq2,x)\n"
   ]
  },
  {
   "cell_type": "code",
   "execution_count": null,
   "metadata": {},
   "outputs": [],
   "source": []
  }
 ],
 "metadata": {
  "kernelspec": {
   "display_name": "Python 3",
   "language": "python",
   "name": "python3"
  },
  "language_info": {
   "codemirror_mode": {
    "name": "ipython",
    "version": 3
   },
   "file_extension": ".py",
   "mimetype": "text/x-python",
   "name": "python",
   "nbconvert_exporter": "python",
   "pygments_lexer": "ipython3",
   "version": "3.8.1"
  }
 },
 "nbformat": 4,
 "nbformat_minor": 4
}
