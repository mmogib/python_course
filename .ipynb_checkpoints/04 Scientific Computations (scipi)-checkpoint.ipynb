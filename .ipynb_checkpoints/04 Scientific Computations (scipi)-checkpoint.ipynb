{
 "cells": [
  {
   "cell_type": "markdown",
   "metadata": {},
   "source": [
    "## Scientific Computations\n",
    "\n",
    "* [scipy](https://www.scipy.org/)"
   ]
  },
  {
   "cell_type": "code",
   "execution_count": 10,
   "metadata": {},
   "outputs": [],
   "source": [
    "import numpy as np\n",
    "import scipy as sc\n",
    "import matplotlib.pyplot as plt\n"
   ]
  },
  {
   "cell_type": "code",
   "execution_count": 31,
   "metadata": {},
   "outputs": [],
   "source": [
    "# ploynomials\n",
    "p = np.poly1d([1,-2,1])\n",
    "#print(p)\n",
    "#dir(p)\n",
    "p.deriv()\n",
    "pp = p*p\n",
    "#print(pp)\n",
    "dd= p.integ(m=1, k=2)\n",
    "#print(dd)\n"
   ]
  },
  {
   "cell_type": "code",
   "execution_count": 39,
   "metadata": {},
   "outputs": [
    {
     "data": {
      "text/plain": [
       "(1.3333333333333333, 1.4802973661668752e-14)"
      ]
     },
     "execution_count": 39,
     "metadata": {},
     "output_type": "execute_result"
    }
   ],
   "source": [
    "## integration\n",
    "from scipy import integrate\n",
    "# ? integrate\n",
    "# ? integrate.quad\n",
    "\n",
    "I1 = integrate.quad(lambda x: x**2, 0, 1)\n",
    "I1\n",
    "\n",
    "def func(x,a,b):\n",
    "    return a*x**2+b*x\n",
    "I2=integrate.quad(func,0,1,args=(1,2))\n",
    "I2"
   ]
  },
  {
   "cell_type": "markdown",
   "metadata": {},
   "source": [
    "### Example\n",
    "Solve the IVP\n",
    "$$\n",
    "\\frac{dy}{dx} + 2xy = x, \\qquad y(0)=-3 \n",
    "$$"
   ]
  },
  {
   "cell_type": "code",
   "execution_count": 75,
   "metadata": {},
   "outputs": [
    {
     "data": {
      "text/plain": [
       "(array([-0.2       , -0.02172787,  0.2       ]),\n",
       " array([-3.        , -3.02956633, -3.06594194]))"
      ]
     },
     "execution_count": 75,
     "metadata": {},
     "output_type": "execute_result"
    }
   ],
   "source": [
    "## ODE\n",
    "# ? integrate.solve_ivp\n",
    "def fun(t,y):\n",
    "    return 1/(2*y)\n",
    "def exactSol(t):\n",
    "    return (1/2)-(7/(2*np.exp(t**2)))\n",
    "\n",
    "tspan= np.linspace(-10,10,100)\n",
    "sol= integrate.solve_ivp(fun,[-0.2,0.2],[-3], vectorized=True,dense_output=True)\n",
    "T=sol.t\n",
    "Y=sol.y[0]\n",
    "T,Y"
   ]
  },
  {
   "cell_type": "code",
   "execution_count": 93,
   "metadata": {},
   "outputs": [
    {
     "data": {
      "text/plain": [
       "     fun: 16.000029026785676\n",
       " message: 'Solution found.'\n",
       "    nfev: 29\n",
       "  status: 0\n",
       " success: True\n",
       "       x: 5.000003628346564"
      ]
     },
     "execution_count": 93,
     "metadata": {},
     "output_type": "execute_result"
    }
   ],
   "source": [
    "from scipy.optimize import minimize, minimize_scalar\n",
    "#? minimize_scalar\n",
    "\n",
    "#s=minimize_scalar(lambda x: (x-1)**2, method='Bounded',bounds=(5,10))\n",
    "#s\n"
   ]
  },
  {
   "cell_type": "markdown",
   "metadata": {},
   "source": [
    "### Example (\n",
    "$$\n",
    "\\min f({\\bf x}) , \\qquad {\\bf x} \\in \\mathbb{R}^N  \n",
    "$$\n",
    "where\n",
    "$$\n",
    "{\\displaystyle f(\\mathbf {x} )=\\sum _{i=1}^{N-1}[100(x_{i+1}-x_{i}^{2})^{2}+(1-x_{i})^{2}]\\quad {\\mbox{where}}\\quad \\mathbf {x} =[x_{1},\\ldots ,x_{N}]\\in \\mathbb {R} ^{N}.}\n",
    "$$\n",
    "For example, if $N=3$, then\n",
    "$$\n",
    "f({\\bf x}) = 100(x_2-x_1^2)^2 + (1-x_1)^2+100(x_3-x_2^2)^2 + (1-x_2)^2\n",
    "$$\n"
   ]
  },
  {
   "cell_type": "code",
   "execution_count": 97,
   "metadata": {},
   "outputs": [
    {
     "data": {
      "text/plain": [
       "      fun: 3.6193319695544864e-11\n",
       " hess_inv: array([[0.10001082, 0.19854139, 0.39688057],\n",
       "       [0.19854139, 0.39898824, 0.79771599],\n",
       "       [0.39688057, 0.79771599, 1.59984775]])\n",
       "      jac: array([ 5.71906662e-06, -3.96784278e-06,  5.46341794e-07])\n",
       "  message: 'Optimization terminated successfully.'\n",
       "     nfev: 185\n",
       "      nit: 28\n",
       "     njev: 37\n",
       "   status: 0\n",
       "  success: True\n",
       "        x: array([0.99999732, 0.99999462, 0.99998923])"
      ]
     },
     "execution_count": 97,
     "metadata": {},
     "output_type": "execute_result"
    }
   ],
   "source": [
    "def rosen(x):\n",
    "    \"\"\"The Rosenbrock function\"\"\"\n",
    "    return sum(100.0*(x[1:]-x[:-1]**2.0)**2.0 + (1-x[:-1])**2.0)\n",
    "x0=np.array([0,0,0])\n",
    "sol=minimize(rosen,x0)\n",
    "sol"
   ]
  },
  {
   "cell_type": "code",
   "execution_count": null,
   "metadata": {},
   "outputs": [],
   "source": []
  }
 ],
 "metadata": {
  "kernelspec": {
   "display_name": "Python 3",
   "language": "python",
   "name": "python3"
  },
  "language_info": {
   "codemirror_mode": {
    "name": "ipython",
    "version": 3
   },
   "file_extension": ".py",
   "mimetype": "text/x-python",
   "name": "python",
   "nbconvert_exporter": "python",
   "pygments_lexer": "ipython3",
   "version": "3.8.1"
  }
 },
 "nbformat": 4,
 "nbformat_minor": 4
}
