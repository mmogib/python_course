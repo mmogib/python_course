{
 "cells": [
  {
   "cell_type": "markdown",
   "metadata": {},
   "source": [
    "## Scientific Computations\n",
    "\n",
    "* [scipy](https://www.scipy.org/)"
   ]
  },
  {
   "cell_type": "code",
   "execution_count": null,
   "metadata": {},
   "outputs": [],
   "source": []
  },
  {
   "cell_type": "code",
   "execution_count": null,
   "metadata": {},
   "outputs": [],
   "source": [
    "# ploynomials\n"
   ]
  },
  {
   "cell_type": "code",
   "execution_count": null,
   "metadata": {},
   "outputs": [],
   "source": [
    "## integration\n"
   ]
  },
  {
   "cell_type": "markdown",
   "metadata": {},
   "source": [
    "### Example\n",
    "Solve the IVP\n",
    "$$\n",
    "\\frac{dy}{dx} + 2xy = x, \\qquad y(0)=-3 \n",
    "$$"
   ]
  },
  {
   "cell_type": "code",
   "execution_count": null,
   "metadata": {},
   "outputs": [],
   "source": [
    "## ODE\n",
    "# ? integrate.solve_ivp\n",
    "def fun(t,y):\n",
    "    return 1/(2*y)\n",
    "def exactSol(t):\n",
    "    return (1/2)-(7/(2*np.exp(t**2)))\n",
    "\n",
    "tspan= np.linspace(-10,10,100)\n",
    "sol= integrate.solve_ivp(fun,[-0.2,0.2],[-3], vectorized=True,dense_output=True)\n",
    "T=sol.t\n",
    "Y=sol.y[0]\n",
    "T,Y"
   ]
  },
  {
   "cell_type": "code",
   "execution_count": null,
   "metadata": {},
   "outputs": [],
   "source": [
    "from scipy.optimize import minimize, minimize_scalar\n",
    "#? minimize_scalar\n",
    "\n",
    "#s=minimize_scalar(lambda x: (x-1)**2, method='Bounded',bounds=(5,10))\n",
    "#s\n"
   ]
  },
  {
   "cell_type": "markdown",
   "metadata": {},
   "source": [
    "### Example (\n",
    "$$\n",
    "\\min f({\\bf x}) , \\qquad {\\bf x} \\in \\mathbb{R}^N  \n",
    "$$\n",
    "where\n",
    "$$\n",
    "{\\displaystyle f(\\mathbf {x} )=\\sum _{i=1}^{N-1}[100(x_{i+1}-x_{i}^{2})^{2}+(1-x_{i})^{2}]\\quad {\\mbox{where}}\\quad \\mathbf {x} =[x_{1},\\ldots ,x_{N}]\\in \\mathbb {R} ^{N}.}\n",
    "$$\n",
    "For example, if $N=3$, then\n",
    "$$\n",
    "f({\\bf x}) = 100(x_2-x_1^2)^2 + (1-x_1)^2+100(x_3-x_2^2)^2 + (1-x_2)^2\n",
    "$$\n"
   ]
  },
  {
   "cell_type": "code",
   "execution_count": null,
   "metadata": {},
   "outputs": [],
   "source": []
  }
 ],
 "metadata": {
  "kernelspec": {
   "display_name": "Python 3",
   "language": "python",
   "name": "python3"
  },
  "language_info": {
   "codemirror_mode": {
    "name": "ipython",
    "version": 3
   },
   "file_extension": ".py",
   "mimetype": "text/x-python",
   "name": "python",
   "nbconvert_exporter": "python",
   "pygments_lexer": "ipython3",
   "version": "3.8.1"
  }
 },
 "nbformat": 4,
 "nbformat_minor": 4
}
