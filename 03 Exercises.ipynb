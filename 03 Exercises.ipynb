{
 "cells": [
  {
   "cell_type": "markdown",
   "metadata": {
    "solution2": "hidden",
    "solution2_first": true
   },
   "source": [
    "### Exercise 1\n",
    "Given an integer,$n$ , perform the following conditional actions:\n",
    "\n",
    "* If $n$ is odd, print __Weird__\n",
    "* If $n$ is even and in the inclusive range of $2$ to $5$ , print __Not Weird__\n",
    "* If $n$ is even and in the inclusive range of $6$ to $20$ , print __Weird__\n",
    "* If $n$ is even and greater than $20$, print __Not Weird__"
   ]
  },
  {
   "cell_type": "code",
   "execution_count": 4,
   "metadata": {
    "solution2": "hidden"
   },
   "outputs": [],
   "source": [
    "def ex1(n):\n",
    "    isEven = n % 2 ==0\n",
    "    if not isEven:\n",
    "        print(\"Weird\")\n",
    "    elif isEven and n in range(2,6):\n",
    "        print(\"Not Weird\")\n",
    "    elif isEven and n in range(6,21):\n",
    "        print(\"Weird\")\n",
    "    else:\n",
    "        print(\"Not Weird\")\n",
    "\n"
   ]
  },
  {
   "cell_type": "code",
   "execution_count": null,
   "metadata": {},
   "outputs": [],
   "source": []
  },
  {
   "cell_type": "markdown",
   "metadata": {},
   "source": [
    "### Exercise 2\n",
    "We add a Leap Day on February 29, almost every four years. The leap day is an extra, or intercalary day and we add it to the shortest month of the year, February.\n",
    "In the Gregorian calendar three criteria must be taken into account to identify leap years:\n",
    "* The year can be evenly divided by 4, is a leap year, unless:\n",
    "    * The year can be evenly divided by 100, it is NOT a leap year, unless:\n",
    "        * The year is also evenly divisible by 400. Then it is a leap year.\n",
    "        \n",
    "This means that in the Gregorian calendar, the years 2000 and 2400 are leap years, while 1800, 1900, 2100, 2200, 2300 and 2500 are NOT leap years.\n",
    "\n",
    "__Task__\n",
    "You are given the year, and you have to write a function to check if the year is leap or not.\n"
   ]
  },
  {
   "cell_type": "code",
   "execution_count": 5,
   "metadata": {},
   "outputs": [],
   "source": [
    "def isLeap(year):\n",
    "    return (year % 4 ==0) and (year % 100 !=0 or year % 400 ==0)"
   ]
  },
  {
   "cell_type": "code",
   "execution_count": null,
   "metadata": {},
   "outputs": [],
   "source": []
  },
  {
   "cell_type": "markdown",
   "metadata": {},
   "source": [
    "### Exercise 3\n",
    "Read an integer $N$.\n",
    "\n",
    "Without using any string methods, try to print the following:\n",
    "$$123\\dots N$$\n",
    "\n",
    "Note that \"$\\dots$\" represents the values in between."
   ]
  },
  {
   "cell_type": "code",
   "execution_count": 6,
   "metadata": {},
   "outputs": [],
   "source": [
    "def printN(N):\n",
    "    out=\"\"\n",
    "    for i in range(1,N+1):\n",
    "        out+=str(i)\n",
    "    return out\n"
   ]
  },
  {
   "cell_type": "markdown",
   "metadata": {},
   "source": [
    "### Exercise 4\n",
    "You are given a string and your task is to swap cases. In other words, convert all lowercase letters to uppercase letters and vice versa.\n",
    "\n",
    "__Example__\n",
    "\n",
    "Pythonist 2 → pYTHONIST 2"
   ]
  },
  {
   "cell_type": "code",
   "execution_count": 7,
   "metadata": {},
   "outputs": [],
   "source": [
    "def upperLower(string):\n",
    "    out = \"\"\n",
    "    for s in string:\n",
    "        out+= str(s).lower() if str(s).isupper() else str(s).upper()\n",
    "    return out\n"
   ]
  },
  {
   "cell_type": "code",
   "execution_count": null,
   "metadata": {},
   "outputs": [],
   "source": []
  }
 ],
 "metadata": {
  "kernelspec": {
   "display_name": "Python 3",
   "language": "python",
   "name": "python3"
  },
  "language_info": {
   "codemirror_mode": {
    "name": "ipython",
    "version": 3
   },
   "file_extension": ".py",
   "mimetype": "text/x-python",
   "name": "python",
   "nbconvert_exporter": "python",
   "pygments_lexer": "ipython3",
   "version": "3.8.1"
  }
 },
 "nbformat": 4,
 "nbformat_minor": 4
}
