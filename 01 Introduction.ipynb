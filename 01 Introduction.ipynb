{
 "cells": [
  {
   "cell_type": "markdown",
   "metadata": {
    "slideshow": {
     "slide_type": "slide"
    }
   },
   "source": [
    "# Introduction to Python\n",
    "\n",
    "### Dr. Mohammed Alshahrani, \n",
    "\n",
    "####  Associate Professor, Department of Mathematics & Statistics, King Fahd University of Petroleum and Minerals\n",
    "\n"
   ]
  },
  {
   "cell_type": "markdown",
   "metadata": {
    "slideshow": {
     "slide_type": "slide"
    }
   },
   "source": [
    "<div style=\"position: relative; top: 50%; left: 50%; transform: translate(-50%,-50%);width: 40vw; text-align: center;\">           \n",
    "    <h2 style=\"color: yellow;padding: 10px; text-align: center; border: 1px solid black;\">  ???</h2>\n",
    "</div>"
   ]
  },
  {
   "cell_type": "markdown",
   "metadata": {
    "slideshow": {
     "slide_type": "slide"
    }
   },
   "source": [
    "# Python\n",
    "__Python__ is an *interpreted*, *high-level*, *general-purpose* programming language. \n",
    "\n",
    "* Created by Guido van Rossum and first released in 1991 ![s](./256px-Guido-portrait-2014-drc.jpg)\n",
    "* It is free and [open-source project](https://github.com/python/cpython)."
   ]
  },
  {
   "cell_type": "markdown",
   "metadata": {
    "slideshow": {
     "slide_type": "slide"
    }
   },
   "source": [
    "## Who is behind Python?\n",
    "### The Python Software Foundation (PSF) \n",
    "* It is a nonprofit organization devoted to the Python programming language, launched on March 6, 2001. \n",
    "* The mission of the foundation is to foster development of the Python community and is responsible for various processes within the Python community, including \n",
    "     * developing the core Python distribution, \n",
    "     * managing intellectual rights, \n",
    "     * developer conferences including PyCon, and \n",
    "     * raising funds."
   ]
  },
  {
   "cell_type": "markdown",
   "metadata": {
    "slideshow": {
     "slide_type": "slide"
    }
   },
   "source": [
    "## Philosophy\n",
    "\n",
    "The language's core philosophy is summarized in the document The Zen of Python , which includes \n",
    "* Beautiful is better than ugly.\n",
    "* Explicit is better than implicit.\n",
    "* Simple is better than complex.\n",
    "* Complex is better than complicated.\n",
    "* Readability counts."
   ]
  },
  {
   "cell_type": "markdown",
   "metadata": {
    "slideshow": {
     "slide_type": "slide"
    }
   },
   "source": [
    "## Python Ecosystem \n",
    "\n",
    "* It has numerous applications and \n",
    "* has been widely adopted by all sorts of communities, from data science to business. \n",
    "* These communities value Python for its precise and efficient syntax, relatively flat learning curve, and good integration with other languages (e.g. C/C++). \n",
    "* It have many widely used packages in\n",
    "    * Scientific Computing,\n",
    "    * Data Science\n",
    "    * Web development\n",
    "    * Desktop and mobile apps\n"
   ]
  },
  {
   "cell_type": "markdown",
   "metadata": {
    "slideshow": {
     "slide_type": "slide"
    }
   },
   "source": [
    "## Python In Scientific Computing & Data Science\n",
    "* [matplotlib](https://matplotlib.org/): Matplotlib is a Python 2D plotting library that produces publication-quality figures in a variety of hard-copy formats and interactive cross-platform environments. It allows you to generate plots, histograms, power spectra, bar charts, error charts, scatter plots, and more.\n",
    "\n"
   ]
  },
  {
   "cell_type": "markdown",
   "metadata": {
    "slideshow": {
     "slide_type": "subslide"
    }
   },
   "source": [
    "\n",
    "* [numpy](https://numpy.org/): NumPy is the fundamental package for scientific computing with Python. It contains among other things:\n",
    "    * a powerful N-dimensional array object\n",
    "    * sophisticated (broadcasting) functions\n",
    "    * tools for integrating C/C++ and Fortran code\n",
    "    * useful linear algebra, Fourier transform, and random number capabilities\n"
   ]
  },
  {
   "cell_type": "markdown",
   "metadata": {
    "slideshow": {
     "slide_type": "subslide"
    }
   },
   "source": [
    "* [pandas](https://pandas.pydata.org/): Pandas is a library for data manipulation and analysis, providing data structures and operations for manipulating numerical tables and time series.\n",
    "* [scipy](https://www.scipy.org/): SciPy is a library used by scientists, analysts, and engineers doing scientific computing and technical computing. It contains modules for optimization, linear algebra, integration, interpolation, special functions, FFT, signal and image processing, ODE solvers, and other tasks common in science and engineering"
   ]
  },
  {
   "cell_type": "markdown",
   "metadata": {
    "slideshow": {
     "slide_type": "subslide"
    }
   },
   "source": [
    "* [sympy](https://www.sympy.org/en/index.html): SymPy is a library for symbolic computation, offering features ranging from basic symbolic arithmetic to calculus, algebra, discrete mathematics, and quantum physics. It provides computer algebra capabilities either as a standalone application, a library to other applications, or live on the web."
   ]
  },
  {
   "cell_type": "markdown",
   "metadata": {
    "slideshow": {
     "slide_type": "slide"
    }
   },
   "source": [
    "## Python Distributions\n",
    "\n",
    "Python has many distributions. The one we will adopt contains all packages we need and more. \n",
    "\n",
    "It is \n",
    "\n",
    "### [Anaconda](https://www.anaconda.com/distribution/)\n",
    "\n",
    "\n"
   ]
  }
 ],
 "metadata": {
  "celltoolbar": "Slideshow",
  "kernelspec": {
   "display_name": "Python 3",
   "language": "python",
   "name": "python3"
  },
  "language_info": {
   "codemirror_mode": {
    "name": "ipython",
    "version": 3
   },
   "file_extension": ".py",
   "mimetype": "text/x-python",
   "name": "python",
   "nbconvert_exporter": "python",
   "pygments_lexer": "ipython3",
   "version": "3.8.1"
  }
 },
 "nbformat": 4,
 "nbformat_minor": 4
}
