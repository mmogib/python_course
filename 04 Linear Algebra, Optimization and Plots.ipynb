{
 "cells": [
  {
   "cell_type": "markdown",
   "metadata": {},
   "source": [
    "## Linear Algebra\n",
    "we use \n",
    "* [numpy](https://numpy.org/)\n",
    "* [matplotlin](https://matplotlib.org/) \n"
   ]
  },
  {
   "cell_type": "code",
   "execution_count": 1,
   "metadata": {},
   "outputs": [],
   "source": [
    "import numpy as np\n",
    "import numpy.random as rg\n",
    "import numpy.linalg as la\n",
    "import matplotlib.pyplot as plt\n",
    "from scipy.optimize import minimize\n",
    "\n",
    "# define arrays\n",
    "# zeros\n",
    "# ones\n",
    "# operations (+,-,@, .dot)"
   ]
  },
  {
   "cell_type": "code",
   "execution_count": 101,
   "metadata": {},
   "outputs": [
    {
     "data": {
      "text/plain": [
       "array([0.        , 3.14159265, 6.28318531])"
      ]
     },
     "execution_count": 101,
     "metadata": {},
     "output_type": "execute_result"
    }
   ],
   "source": [
    "a = np.array([[1,2], [3,4]])\n",
    "b = np.arange(6).reshape(2,3)\n",
    "a.ndim\n",
    "c= rg.randint(100, size=(2,2))\n",
    "lin = np.linspace(0,3*np.pi,4)\n",
    "len(lin[1:]),len(lin),len(lin[:-1])\n",
    "lin[:-1]"
   ]
  },
  {
   "cell_type": "code",
   "execution_count": 120,
   "metadata": {},
   "outputs": [
    {
     "data": {
      "text/plain": [
       "array([0.99999999, 1.99999999])"
      ]
     },
     "execution_count": 120,
     "metadata": {},
     "output_type": "execute_result"
    }
   ],
   "source": [
    "\n",
    "def fun(x):\n",
    "    return sum((x-np.array([1,2]))**2)\n",
    "\n",
    "x0=np.array([1,1])\n",
    "fun(x)\n",
    "res = minimize(fun, x0)\n",
    "res.x"
   ]
  },
  {
   "cell_type": "code",
   "execution_count": 128,
   "metadata": {},
   "outputs": [
    {
     "data": {
      "text/plain": [
       "      fun: 0.0\n",
       " hess_inv: array([[1. , 0. ],\n",
       "       [0. , 0.5]])\n",
       "      jac: array([0., 0.])\n",
       "  message: 'Optimization terminated successfully.'\n",
       "     nfev: 3\n",
       "      nit: 2\n",
       "     njev: 3\n",
       "   status: 0\n",
       "  success: True\n",
       "        x: array([1., 2.])"
      ]
     },
     "execution_count": 128,
     "metadata": {},
     "output_type": "execute_result"
    }
   ],
   "source": [
    "def fun_der(x):\n",
    "    return 2*(x-np.array([1,2]))\n",
    "\n",
    "res = minimize(fun, x0, method='BFGS', jac=fun_der)\n",
    "res"
   ]
  },
  {
   "cell_type": "code",
   "execution_count": 4,
   "metadata": {},
   "outputs": [],
   "source": [
    "A = rg.randint(1,10,size=(3,3))\n",
    "B = rg.randint(1,10,size=(3,3))\n"
   ]
  },
  {
   "cell_type": "code",
   "execution_count": 5,
   "metadata": {},
   "outputs": [
    {
     "name": "stdout",
     "output_type": "stream",
     "text": [
      "[[4 5 6]\n",
      " [2 7 7]\n",
      " [7 7 7]] \n",
      "\n",
      " [[4 2 7]\n",
      " [5 7 7]\n",
      " [6 7 7]]\n"
     ]
    }
   ],
   "source": [
    "print(A,\"\\n\\n\",A.T)\n",
    "As=A*A.T\n",
    "\n",
    "? np.transpose"
   ]
  },
  {
   "cell_type": "code",
   "execution_count": 8,
   "metadata": {},
   "outputs": [
    {
     "data": {
      "text/plain": [
       "array([[-0.05714286, -0.08571429,  0.34285714],\n",
       "       [ 0.25714286, -0.11428571, -0.54285714],\n",
       "       [ 0.37142857,  0.05714286, -0.22857143]])"
      ]
     },
     "execution_count": 8,
     "metadata": {},
     "output_type": "execute_result"
    }
   ],
   "source": [
    "A= np.array([[2,0,3],[-5,-4,2],[2,-1,1]])\n",
    "Ainv=la.inv(A)\n",
    "Ainv"
   ]
  },
  {
   "cell_type": "code",
   "execution_count": 11,
   "metadata": {},
   "outputs": [
    {
     "data": {
      "text/plain": [
       "array([[ 1.00000000e+00,  1.38777878e-17, -1.66533454e-16],\n",
       "       [ 0.00000000e+00,  1.00000000e+00,  1.11022302e-16],\n",
       "       [ 1.11022302e-16,  0.00000000e+00,  1.00000000e+00]])"
      ]
     },
     "execution_count": 11,
     "metadata": {},
     "output_type": "execute_result"
    }
   ],
   "source": [
    "A @ Ainv"
   ]
  },
  {
   "cell_type": "code",
   "execution_count": 12,
   "metadata": {},
   "outputs": [
    {
     "data": {
      "text/plain": [
       "'1.17.5'"
      ]
     },
     "execution_count": 12,
     "metadata": {},
     "output_type": "execute_result"
    }
   ],
   "source": [
    "np.__version__"
   ]
  },
  {
   "cell_type": "code",
   "execution_count": 26,
   "metadata": {},
   "outputs": [
    {
     "data": {
      "text/plain": [
       "(array([2, 3, 2, 2, 1]),\n",
       " array([[ 2,  0,  3],\n",
       "        [-5, -4,  2],\n",
       "        [ 2, -1,  1]]))"
      ]
     },
     "execution_count": 26,
     "metadata": {},
     "output_type": "execute_result"
    }
   ],
   "source": [
    "A[A>0], A\n"
   ]
  }
 ],
 "metadata": {
  "kernelspec": {
   "display_name": "Python 3",
   "language": "python",
   "name": "python3"
  },
  "language_info": {
   "codemirror_mode": {
    "name": "ipython",
    "version": 3
   },
   "file_extension": ".py",
   "mimetype": "text/x-python",
   "name": "python",
   "nbconvert_exporter": "python",
   "pygments_lexer": "ipython3",
   "version": "3.8.1"
  }
 },
 "nbformat": 4,
 "nbformat_minor": 4
}
