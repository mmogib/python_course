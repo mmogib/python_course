{
 "cells": [
  {
   "cell_type": "markdown",
   "metadata": {},
   "source": [
    "## Linear Algebra\n",
    "we use \n",
    "* [numpy](https://numpy.org/)\n",
    "* [matplotlib](https://matplotlib.org/) \n"
   ]
  },
  {
   "cell_type": "code",
   "execution_count": 4,
   "metadata": {},
   "outputs": [],
   "source": [
    "import numpy as np\n",
    "import numpy.random as rg\n",
    "\n",
    "a = np.array([1,2,3])\n",
    "b = np.array([[1],[2],[3]])\n",
    "A= np.array([[1,2,3],[2,-2,3]])\n",
    "v1= np.array((-1,10,2))\n",
    "z=np.zeros((3,3))\n",
    "I=np.identity(3)\n",
    "E = np.empty((3,4))\n",
    "B=A.reshape((3,2))\n",
    "Arand=rg.randint(-3,3,(3,3))\n",
    "Brand=rg.randint(-3,3,(3,3))\n",
    "\n"
   ]
  },
  {
   "cell_type": "code",
   "execution_count": 13,
   "metadata": {},
   "outputs": [
    {
     "data": {
      "image/png": "[encoded data removed]",
      "text/plain": [
       "<Figure size 432x288 with 1 Axes>"
      ]
     },
     "metadata": {
      "needs_background": "light"
     },
     "output_type": "display_data"
    }
   ],
   "source": [
    "import matplotlib.pyplot as plt\n",
    "x = np.linspace(-np.pi,np.pi,200)\n",
    "sinx = np.sin(x)\n",
    "cosx = np.cos(x)\n",
    "plt.plot(x,sinx,'r')\n",
    "plt.plot(x,cosx)\n",
    "plt.xlabel('x label')\n",
    "plt.ylabel('y label')\n",
    "plt.title(\"$\\sin{x}$\")\n",
    "plt.savefig(\"sine.png\")"
   ]
  },
  {
   "cell_type": "code",
   "execution_count": 28,
   "metadata": {},
   "outputs": [
    {
     "data": {
      "text/plain": [
       "(array([ 3.20147234, -2.74656825, -0.45490409]),\n",
       " array([[ 0.35853161, -0.61455367,  0.19774725],\n",
       "        [-0.93244613, -0.22940313, -0.15276923],\n",
       "        [-0.0447134 , -0.75478341,  0.96827557]]))"
      ]
     },
     "execution_count": 28,
     "metadata": {},
     "output_type": "execute_result"
    }
   ],
   "source": [
    "import numpy.linalg as la\n",
    "C= Arand @ Brand\n",
    "C\n",
    "a @ a.transpose()\n",
    "Cinv= la.inv(C)\n",
    "la.norm(C @ Cinv - I)\n",
    "w,v= la.eig(Arand)\n",
    "w,v"
   ]
  },
  {
   "cell_type": "markdown",
   "metadata": {},
   "source": [
    "### Exercise:\n",
    "Solve the following system\n",
    "$$\n",
    "\\begin{array}{rcrcrcr}\n",
    "x_1 &  + & 2x_2 & + &  x_3 &=& 4\\\\\n",
    "3x_1 & + & 8x_2 & + & 7x_3 &=&20\\\\\n",
    "2x_1 & + & 7x_2 & + & 9x_3 &=&23\n",
    "\\end{array}\n",
    "$$"
   ]
  },
  {
   "cell_type": "code",
   "execution_count": 33,
   "metadata": {},
   "outputs": [],
   "source": [
    "C = np.array([[1,2,1],[3,8,7],[2,7,9]])\n",
    "b = np.array([4,20,23])\n",
    "x = la.inv(C) @ b\n",
    "xx=la.solve(C,b)\n",
    "? la.solve"
   ]
  },
  {
   "cell_type": "markdown",
   "metadata": {},
   "source": [
    "### Exercise:\n",
    "Solve the following system\n",
    "$$\n",
    "\\begin{array}{rcrcrcrcrcrcr}\n",
    "x_1 &  - & 2x_2 & + & 3x_3 &+& 2x_4 & + &  x_5 & = & 10\\\\\n",
    "    &    &      &   &  x_3 & &      & + & 2x_5 & = & -3\\\\\n",
    "    &    &      &   &      & &  x_4 & - & 4x_5 & = & 7\\\\\n",
    "\\end{array}\n",
    "$$"
   ]
  },
  {
   "cell_type": "code",
   "execution_count": 39,
   "metadata": {},
   "outputs": [
    {
     "data": {
      "text/plain": [
       "(array([ 1.81578947, -3.63157895, -0.28070175,  1.56140351, -1.35964912]),\n",
       " array([], dtype=float64),\n",
       " 3,\n",
       " array([4.93597158, 4.04351368, 0.53495944]))"
      ]
     },
     "execution_count": 39,
     "metadata": {},
     "output_type": "execute_result"
    }
   ],
   "source": [
    "A = np.array([[1,-2,3,2,1],[0,0,1,0,2],[0,0,0,1,-4]])\n",
    "b=np.array([10,-3,7])\n",
    "xx= la.lstsq(A,b,rcond=-1)\n",
    "xx"
   ]
  },
  {
   "cell_type": "code",
   "execution_count": 44,
   "metadata": {},
   "outputs": [
    {
     "data": {
      "text/latex": [
       "$\\displaystyle \\left[\\begin{matrix}2 \\tau_{0} - 3 \\tau_{1} + 5\\\\\\tau_{0}\\\\- 2 \\tau_{1} - 3\\\\4 \\tau_{1} + 7\\\\\\tau_{1}\\end{matrix}\\right]$"
      ],
      "text/plain": [
       "Matrix([\n",
       "[2*tau0 - 3*tau1 + 5],\n",
       "[               tau0],\n",
       "[        -2*tau1 - 3],\n",
       "[         4*tau1 + 7],\n",
       "[               tau1]])"
      ]
     },
     "execution_count": 44,
     "metadata": {},
     "output_type": "execute_result"
    }
   ],
   "source": [
    "import sympy as sp\n",
    "A=sp.Matrix([[1,-2,3,2,1],[0,0,1,0,2],[0,0,0,1,-4]])\n",
    "b=sp.Matrix([10,-3,7])\n",
    "sol,params = A.gauss_jordan_solve(b)\n",
    "sol"
   ]
  },
  {
   "cell_type": "code",
   "execution_count": null,
   "metadata": {},
   "outputs": [],
   "source": []
  }
 ],
 "metadata": {
  "kernelspec": {
   "display_name": "Python 3",
   "language": "python",
   "name": "python3"
  },
  "language_info": {
   "codemirror_mode": {
    "name": "ipython",
    "version": 3
   },
   "file_extension": ".py",
   "mimetype": "text/x-python",
   "name": "python",
   "nbconvert_exporter": "python",
   "pygments_lexer": "ipython3",
   "version": "3.8.1"
  }
 },
 "nbformat": 4,
 "nbformat_minor": 4
}
