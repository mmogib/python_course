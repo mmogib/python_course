{
 "cells": [
  {
   "cell_type": "markdown",
   "metadata": {},
   "source": [
    "# Beginners Guide\n",
    "\n",
    "It is available here\n",
    "* [https://docs.python.org/3/tutorial/index.html](https://docs.python.org/3/tutorial/index.html)\n",
    "* [https://wiki.python.org/moin/BeginnersGuide](https://wiki.python.org/moin/BeginnersGuide)\n",
    "\n",
    "### Using Python as a Calculator\n",
    "\n",
    "Data types\n",
    "* Numbers: \n",
    "    * int\n",
    "    * float\n",
    "    * complex\n",
    "    * bool\n",
    "* Strings\n",
    "* lists\n",
    "* tuples\n",
    "* Dictionaries\n",
    "* Sets\n",
    "\n"
   ]
  },
  {
   "cell_type": "markdown",
   "metadata": {},
   "source": [
    "### Arithmetic Operators:\n",
    "* Addition:       3 + 2\n",
    "* Subtraction:    3 - 2\n",
    "* Multiplication: 3 * 2\n",
    "* Division:       3 / 2\n",
    "* Floor Division: 3 // 2\n",
    "* Exponent:       3 ** 2\n",
    "* Modulus:        3 % 2\n",
    "\n",
    "\n",
    "### Comparisons:\n",
    "* Equal:            3 == 2\n",
    "* Not Equal:        3 != 2\n",
    "* Greater Than:     3 > 2\n",
    "* Less Than:        3 < 2\n",
    "* Greater or Equal: 3 >= 2\n",
    "* Less or Equal:    3 <= 2"
   ]
  },
  {
   "cell_type": "markdown",
   "metadata": {},
   "source": [
    "### Exercise\n",
    "In REPL (console, math, statistics) Work with arithmetics and simple math!!.\n"
   ]
  },
  {
   "cell_type": "code",
   "execution_count": 4,
   "metadata": {},
   "outputs": [],
   "source": [
    "# in-line comments\n",
    "\n",
    "\"\"\"\n",
    "  this is a multi-line comment\n",
    "  a new line \n",
    "  another line\n",
    "  \n",
    "\"\"\"\n",
    "sentence = \"This is a 'quoted' word\"\n",
    "# has many methods to modify this string\n",
    "# slicing \n",
    "# concatenation, repeating, split (ex: remove '' from sentence)\n",
    "# methods (dir and help)\n",
    "# format\n"
   ]
  },
  {
   "cell_type": "markdown",
   "metadata": {
    "solution2": "hidden",
    "solution2_first": true
   },
   "source": [
    "#### Exercise (warm-up)\n",
    "We should write a simple script that finds the area of a rectangle. \n",
    "* Define two variables 'width' and 'height'\n",
    "* Compute the area and assign it to a variable named 'area'.\n",
    "* Display the result as a statement that reads:\n",
    "\n",
    "__'The area of a rectangle of width=... and height=... is equal to ... .'__"
   ]
  },
  {
   "cell_type": "code",
   "execution_count": null,
   "metadata": {
    "solution2": "hidden"
   },
   "outputs": [],
   "source": [
    "width=5\n",
    "height=6\n",
    "area=width*height\n",
    "print(\"The area of a rectangle of width={} and hieght={} is equal to {}.\".format(width, height,area))"
   ]
  },
  {
   "cell_type": "code",
   "execution_count": 9,
   "metadata": {},
   "outputs": [
    {
     "name": "stdout",
     "output_type": "stream",
     "text": [
      "a is nonnegative.\n",
      "Good for you! You know c.\n",
      "1\n",
      "3\n",
      "5\n",
      "7\n",
      "9\n",
      "python\n",
      "java\n",
      "c\n",
      "javascript\n",
      "julia\n",
      "0\n",
      "skipped\n",
      "2\n",
      "skipped\n",
      "4\n",
      "This is 4\n",
      "5\n",
      "skipped\n",
      "7\n",
      "enough...\n"
     ]
    }
   ],
   "source": [
    "# # conditional and loops\n",
    "a = 5;\n",
    "condition = 0<=a \n",
    "if condition:\n",
    "    print(\"a is nonnegative.\")\n",
    "else:\n",
    "    print(\"a is negative.\")\n",
    "    \n",
    "languages = ['python', 'java','c', 'javascript', 'julia']\n",
    "if \"python\" in languages and \"c++\" in languages:\n",
    "    print(\"Good for you! You know python....\")\n",
    "elif \"java\" in languages:\n",
    "    print(\"Good for you! You know c.\")   \n",
    "else:\n",
    "    print(\"Something else...\")\n",
    "\n",
    "\n",
    "## loops\n",
    "##for loop\n",
    "rng = range(1,11,2) # 1,3,5,7,9\n",
    "\n",
    "for i in rng:\n",
    "     print(i)\n",
    "\n",
    "# languages = ['python', 'java','c', 'javascript', 'julia']\n",
    "\n",
    "for lang in languages:\n",
    "     print(lang)\n",
    "i=0\n",
    "while i<10:\n",
    "    print(i)\n",
    "    \n",
    "    if i==4:\n",
    "        print(\"This is 4\")\n",
    "        i+=1\n",
    "        continue\n",
    "    elif i==7:\n",
    "        print(\"enough...\")\n",
    "        break;\n",
    "    else:\n",
    "        print(\"skipped\")\n",
    "    i=i+2\n",
    "\n",
    "\n",
    "\n"
   ]
  },
  {
   "cell_type": "code",
   "execution_count": 15,
   "metadata": {},
   "outputs": [
    {
     "data": {
      "text/plain": [
       "6"
      ]
     },
     "execution_count": 15,
     "metadata": {},
     "output_type": "execute_result"
    }
   ],
   "source": [
    "## FUNCTIONs\n",
    "# define\n",
    "# arguments\n",
    "# default arguments\n",
    "# args and kwargs\n",
    "\n",
    "\n",
    "def add(a,b=0):\n",
    "    \"\"\" adds two numbers a and b\"\"\"\n",
    "    return a+b\n",
    "c = add \n",
    "\n",
    "# def add(*args,**kwargs):\n",
    "#     if 'mod' in kwargs:\n",
    "#             return sum(args) % int(kwargs['mod'])\n",
    "#     else:\n",
    "#              return sum(args)\n",
    "\n",
    "\n",
    "# print(help(add))\n",
    "# # List\n",
    "# a = [1,2,3,4,5]\n",
    "# a[1], a[0], a[-1], len(a)\n",
    "# matrix = [[1,2],[3,4]]\n",
    "# matrix[1][1]\n",
    "\n",
    "# a = [1,2,3,4,5]\n",
    "# b = a.copy()\n",
    "# a[1]=5\n",
    "# print(a,b)\n",
    "c(1,5)\n"
   ]
  },
  {
   "cell_type": "markdown",
   "metadata": {
    "solution2": "hidden",
    "solution2_first": true
   },
   "source": [
    "### Exercise 1\n",
    "Given an integer,$n$ , perform the following conditional actions:\n",
    "\n",
    "* If $n$ is odd, print __Weird__\n",
    "* If $n$ is even and in the inclusive range of $2$ to $5$ , print __Not Weird__\n",
    "* If $n$ is even and in the inclusive range of $6$ to $20$ , print __Weird__\n",
    "* If $n$ is even and greater than $20$, print __Not Weird__"
   ]
  },
  {
   "cell_type": "code",
   "execution_count": 3,
   "metadata": {
    "solution2": "hidden"
   },
   "outputs": [],
   "source": [
    "def ex1(n):\n",
    "    isEven = n % 2 ==0\n",
    "    if not isEven:\n",
    "        print(\"Weird\")\n",
    "    elif isEven and n in range(2,6):\n",
    "        print(\"Not Weird\")\n",
    "    elif isEven and n in range(6,21):\n",
    "        print(\"Weird\")\n",
    "    else:\n",
    "        print(\"Not Weird\")\n",
    "\n"
   ]
  },
  {
   "cell_type": "code",
   "execution_count": null,
   "metadata": {},
   "outputs": [],
   "source": []
  },
  {
   "cell_type": "markdown",
   "metadata": {
    "solution2": "hidden",
    "solution2_first": true
   },
   "source": [
    "### Exercise 2\n",
    "We add a Leap Day on February 29, almost every four years. The leap day is an extra, or intercalary day and we add it to the shortest month of the year, February.\n",
    "In the Gregorian calendar three criteria must be taken into account to identify leap years:\n",
    "* The year can be evenly divided by 4, is a leap year, unless:\n",
    "    * The year can be evenly divided by 100, it is NOT a leap year, unless:\n",
    "        * The year is also evenly divisible by 400. Then it is a leap year.\n",
    "        \n",
    "This means that in the Gregorian calendar, the years 2000 and 2400 are leap years, while 1800, 1900, 2100, 2200, 2300 and 2500 are NOT leap years.\n",
    "\n",
    "__Task__\n",
    "You are given the year, and you have to write a function to check if the year is leap or not.\n"
   ]
  },
  {
   "cell_type": "code",
   "execution_count": null,
   "metadata": {
    "solution2": "hidden"
   },
   "outputs": [],
   "source": [
    "def isLeap(year):\n",
    "    return (year % 4 ==0) and (year % 100 !=0 or year % 400 ==0)"
   ]
  },
  {
   "cell_type": "code",
   "execution_count": null,
   "metadata": {},
   "outputs": [],
   "source": []
  },
  {
   "cell_type": "markdown",
   "metadata": {
    "solution2": "hidden",
    "solution2_first": true
   },
   "source": [
    "### Exercise 3\n",
    "Read an integer $N$.\n",
    "\n",
    "Without using any string methods, try to print the following:\n",
    "$$123\\dots N$$\n",
    "\n",
    "Note that \"$\\dots$\" represents the values in between."
   ]
  },
  {
   "cell_type": "code",
   "execution_count": null,
   "metadata": {
    "solution2": "hidden"
   },
   "outputs": [],
   "source": [
    "def printN(N):\n",
    "    out=\"\"\n",
    "    for i in range(1,N+1):\n",
    "        out+=str(i)\n",
    "    return out\n"
   ]
  },
  {
   "cell_type": "code",
   "execution_count": null,
   "metadata": {},
   "outputs": [],
   "source": []
  },
  {
   "cell_type": "markdown",
   "metadata": {
    "solution2": "hidden",
    "solution2_first": true
   },
   "source": [
    "### Exercise 4\n",
    "Complete the solution so that it reverses the string value passed into it.\n",
    "\n",
    "```python\n",
    "def solution(string):\n",
    "    # your code here\n",
    "```"
   ]
  },
  {
   "cell_type": "code",
   "execution_count": 2,
   "metadata": {
    "solution2": "hidden"
   },
   "outputs": [],
   "source": [
    "def solution(string):\n",
    "    return string[::-1]"
   ]
  },
  {
   "cell_type": "markdown",
   "metadata": {
    "solution2": "hidden",
    "solution2_first": true
   },
   "source": [
    "### Exercise 5\n",
    "You are given a string and your task is to swap cases. In other words, convert all lowercase letters to uppercase letters and vice versa.\n",
    "\n",
    "__Example__\n",
    "\n",
    "Pythonist 2 → pYTHONIST 2"
   ]
  },
  {
   "cell_type": "code",
   "execution_count": 2,
   "metadata": {
    "solution2": "hidden"
   },
   "outputs": [],
   "source": [
    "def upperLower(string):\n",
    "    out = \"\"\n",
    "    for s in string:\n",
    "        out+= str(s).lower() if str(s).isupper() else str(s).upper()\n",
    "    return out\n"
   ]
  },
  {
   "cell_type": "code",
   "execution_count": null,
   "metadata": {},
   "outputs": [],
   "source": []
  },
  {
   "cell_type": "markdown",
   "metadata": {
    "solution2": "hidden",
    "solution2_first": true
   },
   "source": [
    "### Exercise 6\n",
    "Given an array of integers as strings and numbers, return the sum of the array values as if all were numbers.\n",
    "\n",
    "Return your answer as a number."
   ]
  },
  {
   "cell_type": "code",
   "execution_count": 2,
   "metadata": {
    "solution2": "hidden"
   },
   "outputs": [],
   "source": [
    "def sum_mix(a):\n",
    "    summ=0\n",
    "    for item in a:\n",
    "        summ+=int(item)\n",
    "    return summ\n"
   ]
  },
  {
   "cell_type": "code",
   "execution_count": 4,
   "metadata": {},
   "outputs": [],
   "source": [
    "## more on list    --- also # range()\n",
    "# define\n",
    "# append\n",
    "# pop\n",
    "# remove\n",
    "# del\n",
    "# slicing\n",
    "# join\n",
    "# operations???!!! (+,*,/,-)\n",
    "# copy\n",
    "# list Comprehensions: list of squres of integers\n",
    "# "
   ]
  },
  {
   "cell_type": "markdown",
   "metadata": {
    "solution2": "hidden",
    "solution2_first": true
   },
   "source": [
    "### Exercise 7\n",
    "Write a program that prints the numbers from 1 to 100. But for multiples of three print “Fizz” instead of the number and for the multiples of five print “Buzz”. For numbers which are multiples of both three and five print “FizzBuzz”."
   ]
  },
  {
   "cell_type": "code",
   "execution_count": 32,
   "metadata": {
    "solution2": "hidden"
   },
   "outputs": [
    {
     "data": {
      "text/plain": [
       "[1,\n",
       " 2,\n",
       " 'Fizz',\n",
       " 4,\n",
       " 'Buzz',\n",
       " 'Fizz',\n",
       " 7,\n",
       " 8,\n",
       " 'Fizz',\n",
       " 'Buzz',\n",
       " 11,\n",
       " 'Fizz',\n",
       " 13,\n",
       " 14,\n",
       " 'FizzBuzz',\n",
       " 16,\n",
       " 17,\n",
       " 'Fizz',\n",
       " 19,\n",
       " 'Buzz']"
      ]
     },
     "metadata": {},
     "output_type": "display_data"
    },
    {
     "data": {
      "text/plain": [
       "[1,\n",
       " 2,\n",
       " 'Fizz',\n",
       " 4,\n",
       " 'Buzz',\n",
       " 'Fizz',\n",
       " 7,\n",
       " 8,\n",
       " 'Fizz',\n",
       " 'Buzz',\n",
       " 11,\n",
       " 'Fizz',\n",
       " 13,\n",
       " 14,\n",
       " 'FizzBuzz',\n",
       " 16,\n",
       " 17,\n",
       " 'Fizz',\n",
       " 19,\n",
       " 'Buzz']"
      ]
     },
     "execution_count": 32,
     "metadata": {},
     "output_type": "execute_result"
    }
   ],
   "source": [
    "## solution 1\n",
    "def fizz_or_buzz(i):\n",
    "    if (i % 3 == 0) and (i % 5 == 0):\n",
    "        return \"FizzBuzz\"\n",
    "    elif i % 3 == 0:\n",
    "        return \"Fizz\"\n",
    "    elif i % 5 == 0:\n",
    "        return \"Buzz\"\n",
    "    else:\n",
    "        return i\n",
    "    \n",
    "\n",
    "def fizz_buzz(n):\n",
    "    arr = []\n",
    "    for i in range(1,n+1):\n",
    "        arr.append(fizz_or_buzz(i))\n",
    "    \n",
    "    return arr\n",
    "display(fizz_buzz(20))\n",
    "## solution 2\n",
    "fizz = map(fizz_or_buzz, range(1,21))\n",
    "l = [i for i in fizz]\n",
    "l"
   ]
  },
  {
   "cell_type": "code",
   "execution_count": 1,
   "metadata": {},
   "outputs": [],
   "source": [
    "## tuples\n",
    "# tuples vs list\n",
    "# methods\n",
    "# zip function\n",
    "\n",
    "\n",
    "## sets\n",
    "# add\n",
    "# remove\n",
    "# intersection\n",
    "# union\n",
    "\n",
    "## dictionaries (associated arrays)\n",
    "# add\n",
    "# update\n",
    "# looping (items)\n"
   ]
  },
  {
   "cell_type": "markdown",
   "metadata": {
    "solution2": "hidden",
    "solution2_first": true
   },
   "source": [
    "### Exercise 8\n",
    "Complete the square sum function so that it squares each number passed into it and then sums the results together.\n",
    "\n",
    "For example, for [1, 2, 2] it should return 9 because 1^2 + 2^2 + 2^2 = 9.\n",
    "\n",
    "```python\n",
    "def sum_sqaures(numbers):\n",
    "    # your code here\n",
    "```"
   ]
  },
  {
   "cell_type": "code",
   "execution_count": 4,
   "metadata": {
    "solution2": "hidden"
   },
   "outputs": [],
   "source": [
    "def sum_sqaures(numbers):\n",
    "    return sum([x**2 for x in numbers])"
   ]
  },
  {
   "cell_type": "code",
   "execution_count": 5,
   "metadata": {},
   "outputs": [],
   "source": [
    "#sum_sqaures([1,2,2])"
   ]
  },
  {
   "cell_type": "markdown",
   "metadata": {},
   "source": [
    "### Alogithms\n",
    "An __algorithm__ is a procedure that describes, in an unambiguous manner, a finite sequence of steps to be performed in a specified order.\n",
    "\n",
    "We use a __pseudocode__ to describe the algorithms. This pseudocode specifies the form of the input to be supplied and the form of the desired output.\n"
   ]
  },
  {
   "cell_type": "markdown",
   "metadata": {
    "solution2": "hidden",
    "solution2_first": true
   },
   "source": [
    "### Exercise 9:\n",
    "Write a function that implements the following pseudocode.\n",
    "\n",
    "![pseudocode](./pseudocode.png)"
   ]
  },
  {
   "cell_type": "code",
   "execution_count": 15,
   "metadata": {
    "solution2": "hidden"
   },
   "outputs": [],
   "source": [
    "def bisect(f,a,b,tol,N0):\n",
    "    \n",
    "    fa=f(a)\n",
    "    if fa*f(b)>0:\n",
    "        return (\"error\", \"Use a different interval.\")\n",
    "    \n",
    "    i=1\n",
    "    while i<=N0:\n",
    "        p=a+(b-a)/2\n",
    "        fp=f(p)\n",
    "        if fp==0 or (b-a)/2<tol:\n",
    "            return (\"ok\",p)\n",
    "        if fa*fp>0:\n",
    "            a = p\n",
    "            fa=fp\n",
    "        else:\n",
    "            b=p\n",
    "        i+=1\n",
    "    \n",
    "    return (\"error\", \"Maximum number of iterations reached.\")\n",
    "\n",
    "f = lambda x: x**3+4*x**2-10\n",
    "a, b=0, 1\n",
    "tol=0.0001\n",
    "N0=20\n",
    "msg, result=bisect(f,a,b,tol,N0)\n"
   ]
  },
  {
   "cell_type": "markdown",
   "metadata": {
    "solution2": "hidden",
    "solution2_first": true
   },
   "source": [
    "### Exercise 10 (HW)\n",
    "##### Definition\n",
    "Balanced number is the number that *The sum of all digits to the left of the middle digit(s) and the sum of all digits to the right of the middle digit(s) are equal*.\n",
    "\n",
    "__Task__:\n",
    "Given a number, Find if it is Balanced or not .\n",
    "\n",
    "Notes\n",
    "* If the number has an odd number of digits then there is only one middle digit, e.g. 92645 has middle digit 6; otherwise, there are two middle digits , e.g. 1301 has middle digits 3 and 0\n",
    "\n",
    "* The middle digit(s) should not be considered when determining whether a number is balanced or not, e.g 413023 is a balanced number because the left sum and right sum are both 5.\n",
    "\n",
    "* Number passed is always Positive .\n",
    "\n",
    "* Return the result as String"
   ]
  },
  {
   "cell_type": "code",
   "execution_count": 106,
   "metadata": {
    "solution2": "hidden"
   },
   "outputs": [],
   "source": [
    "start= lambda num: len(num)//2 if len(num) % 2 ==1 else len(num\n",
    ")//2-1\n",
    "\n",
    "def balanced_num(number):\n",
    "    n_as_str=str(number)\n",
    "    \n",
    "    if len(n_as_str)<=2:\n",
    "        return \"Balanced\"\n",
    "    else:\n",
    "        ind_inc = 1 if len(n_as_str) % 2 == 1 else 2 \n",
    "        ind=start(n_as_str)\n",
    "        a = sum(int(s) for s in n_as_str[:ind])\n",
    "        b = sum(int(s) for s in n_as_str[ind+ind_inc:])\n",
    "       \n",
    "        return \"Balanced\" if a-b==0 else \"Not Balanced\"\n",
    "       "
   ]
  },
  {
   "cell_type": "code",
   "execution_count": 2,
   "metadata": {},
   "outputs": [],
   "source": [
    "def balanced_num(number):\n",
    "    # your code is here\n",
    "    pass"
   ]
  },
  {
   "cell_type": "markdown",
   "metadata": {
    "solution2": "hidden",
    "solution2_first": true
   },
   "source": [
    "### Exercise 11 (HW)\n",
    "Given an 2D list of size m * n. Your task is to find the sum of minimum value in each row.\n",
    "\n",
    "For Example:\n",
    "```python\n",
    "[\n",
    "  [1,2,3,4,5], # minimum value of row is 1\n",
    "  [5,6,7,8,9], # minimum value of row is 5\n",
    "  [20,21,34,56,100] # minimum value of row is 20\n",
    "]\n",
    "```\n",
    "So, the function should return 26 because sum of minimums is as 1 + 5 + 20 = 26\n",
    "\n",
    "Note: You will be always given non-empty list containing Positive values.\n"
   ]
  },
  {
   "cell_type": "code",
   "execution_count": 5,
   "metadata": {
    "solution2": "hidden"
   },
   "outputs": [
    {
     "data": {
      "text/plain": [
       "26"
      ]
     },
     "execution_count": 5,
     "metadata": {},
     "output_type": "execute_result"
    }
   ],
   "source": [
    "def sum_of_minimums(numbers):\n",
    "    return sum(min(l) for l in numbers)\n",
    "\n",
    "l=[\n",
    "  [1,2,3,4,5], # minimum value of row is 1\n",
    "  [5,6,7,8,9], # minimum value of row is 5\n",
    "  [20,21,34,56,100] # minimum value of row is 20\n",
    "]\n",
    "sum_of_minimums(l)"
   ]
  },
  {
   "cell_type": "code",
   "execution_count": null,
   "metadata": {},
   "outputs": [],
   "source": [
    "def sum_of_minimums(numbers):\n",
    "    pass"
   ]
  },
  {
   "cell_type": "markdown",
   "metadata": {
    "solution2": "hidden",
    "solution2_first": true
   },
   "source": [
    "### Exercise 12 (HW)\n",
    "Given two arrays **a** and **b** write a function comp(**a**, **b**) that checks whether the two arrays have the \"same\" elements, with the same multiplicities. \"Same\" means, here, that the elements in **b** are the elements in **a** squared, regardless of the order.\n",
    "\n",
    "Examples\n",
    "Valid arrays\n",
    "```puthon\n",
    "a = [121, 144, 19, 161, 19, 144, 19, 11]  \n",
    "b = [121, 14641, 20736, 361, 25921, 361, 20736, 361]\n",
    "```\n",
    "comp(a, b) returns true because in b 121 is the square of 11, 14641 is the square of 121, 20736 the square of 144, 361 the square of 19, 25921 the square of 161, and so on."
   ]
  },
  {
   "cell_type": "code",
   "execution_count": 38,
   "metadata": {
    "solution2": "hidden"
   },
   "outputs": [],
   "source": [
    "def repeat(object, times=None):\n",
    "    # repeat(10, 3) --> 10 10 10\n",
    "    if times is None:\n",
    "        while True:\n",
    "            yield object\n",
    "    else:\n",
    "        for i in range(times):\n",
    "            yield object\n",
    "            \n",
    "def isInArray(el,arr):\n",
    "    if not isinstance(arr,list):\n",
    "        return False\n",
    "    if el**2 in arr:\n",
    "        arr.remove(el**2)\n",
    "        return True\n",
    "    return False\n",
    "    \n",
    "def comp(array1, array2):\n",
    "    # your code\n",
    "    if (not isinstance(array1, list)) or (not isinstance(array2, list)):\n",
    "        return False\n",
    "    \n",
    "    if len(array1)==len(array2)==0:\n",
    "        return True\n",
    "        \n",
    "    if len(array1)==0 or len(array2)==0:\n",
    "        return False\n",
    "    \n",
    "    a=set(array1)\n",
    "    b=set(array2)\n",
    "    if len(a)!=len(b):\n",
    "        return False\n",
    "    array2_repeated=[x for x in repeat(array2,len(array1))]\n",
    "    founded=map(isInArray,array1,array2_repeated)\n",
    "    return sum(founded)==len(array1)\n",
    "\n"
   ]
  },
  {
   "cell_type": "code",
   "execution_count": null,
   "metadata": {},
   "outputs": [],
   "source": [
    "def comp(array1, array2):\n",
    "    #Make Gauss proud!\n",
    "    pass"
   ]
  }
 ],
 "metadata": {
  "kernelspec": {
   "display_name": "Python 3",
   "language": "python",
   "name": "python3"
  },
  "language_info": {
   "codemirror_mode": {
    "name": "ipython",
    "version": 3
   },
   "file_extension": ".py",
   "mimetype": "text/x-python",
   "name": "python",
   "nbconvert_exporter": "python",
   "pygments_lexer": "ipython3",
   "version": "3.8.1"
  }
 },
 "nbformat": 4,
 "nbformat_minor": 4
}
